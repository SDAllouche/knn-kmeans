{
 "cells": [
  {
   "cell_type": "markdown",
   "id": "bd338e4b",
   "metadata": {},
   "source": [
    "# K-MEANS ALGORITHM"
   ]
  },
  {
   "cell_type": "markdown",
   "id": "a2322801",
   "metadata": {},
   "source": [
    "## Import Libraries"
   ]
  },
  {
   "cell_type": "code",
   "execution_count": null,
   "id": "64b1185d",
   "metadata": {},
   "outputs": [],
   "source": [
    "import numpy as np\n",
    "import matplotlib.pyplot as plt\n",
    "import glob\n",
    "import cv2\n",
    "import os\n",
    "import pandas as pd\n",
    "from sklearn.decomposition import PCA\n",
    "import matplotlib.pyplot as plt\n",
    "from IPython.display import clear_output"
   ]
  },
  {
   "cell_type": "markdown",
   "id": "ec7c22e2",
   "metadata": {},
   "source": [
    "## Dataset"
   ]
  },
  {
   "cell_type": "code",
   "execution_count": null,
   "id": "fa111e04",
   "metadata": {},
   "outputs": [],
   "source": [
    "#Import all images's paths\n",
    "images=glob.glob('image_database/*')\n",
    "test=glob.glob('test/*')"
   ]
  },
  {
   "cell_type": "code",
   "execution_count": null,
   "id": "4029a2d1",
   "metadata": {},
   "outputs": [],
   "source": [
    "I1=plt.imread('image_database/1.jpg')\n",
    "I2=plt.imread('image_database/11.jpg')\n",
    "I3=plt.imread('image_database/21.jpg')\n",
    "I4=plt.imread('image_database/31.jpg')\n",
    "I5=plt.imread('image_database/41.jpg')\n",
    "I6=plt.imread('image_database/51.jpg')\n",
    "plt.subplot(231)\n",
    "plt.title('Bus')\n",
    "plt.imshow(I1)\n",
    "plt.subplot(232)\n",
    "plt.title('Dinosaur')\n",
    "plt.imshow(I2)\n",
    "plt.subplot(233)\n",
    "plt.title('Elephant')\n",
    "plt.imshow(I3)\n",
    "plt.subplot(234)\n",
    "plt.title('Flower')\n",
    "plt.imshow(I4)\n",
    "plt.subplot(235)\n",
    "plt.title('Horse')\n",
    "plt.imshow(I5)\n",
    "plt.subplot(236)\n",
    "plt.title('Mountain')\n",
    "plt.imshow(I6)\n",
    "plt.show()"
   ]
  },
  {
   "cell_type": "markdown",
   "id": "cf01632d",
   "metadata": {},
   "source": [
    "## Important Functions"
   ]
  },
  {
   "cell_type": "code",
   "execution_count": null,
   "id": "faa36e9d",
   "metadata": {},
   "outputs": [],
   "source": [
    "def rgb2gray(I):\n",
    "    return np.dot(I,[0.2989, 0.5870, 0.1140])"
   ]
  },
  {
   "cell_type": "code",
   "execution_count": null,
   "id": "474bfae7",
   "metadata": {},
   "outputs": [],
   "source": [
    "I_gray=rgb2gray(I1)\n",
    "plt.imshow(I_gray,cmap=plt.get_cmap('gray'))\n",
    "plt.show()"
   ]
  },
  {
   "cell_type": "code",
   "execution_count": null,
   "id": "9297e00c",
   "metadata": {},
   "outputs": [],
   "source": [
    "def distance(x,y):\n",
    "    return np.sqrt(np.sum(np.power((x-y),2)))"
   ]
  },
  {
   "cell_type": "code",
   "execution_count": null,
   "id": "7ab879d7",
   "metadata": {},
   "outputs": [],
   "source": [
    "I_gray1=rgb2gray(I1)\n",
    "I_gray2=rgb2gray(I2)\n",
    "print(\"Euclidean distance between two images : \",distance(I_gray1,I_gray2))"
   ]
  },
  {
   "cell_type": "code",
   "execution_count": null,
   "id": "d1750e1d",
   "metadata": {},
   "outputs": [],
   "source": [
    "def distanceMan(x,y):\n",
    "    return np.sqrt(np.sum(np.abs(x-y)))"
   ]
  },
  {
   "cell_type": "code",
   "execution_count": null,
   "id": "c4ea5ed8",
   "metadata": {},
   "outputs": [],
   "source": [
    "print(\"Manhattan distance between two images : \",distanceMan(I_gray1,I_gray2))"
   ]
  },
  {
   "cell_type": "code",
   "execution_count": null,
   "id": "2427a3c8",
   "metadata": {},
   "outputs": [],
   "source": [
    "def redimension(im_ori,im): \n",
    "    a,b=im_ori.shape\n",
    "    img_resized = cv2.resize(im,(b,a))\n",
    "    return img_resized"
   ]
  },
  {
   "cell_type": "markdown",
   "id": "0fbb7d0e",
   "metadata": {},
   "source": [
    "## Color Feature"
   ]
  },
  {
   "cell_type": "code",
   "execution_count": null,
   "id": "68288259",
   "metadata": {},
   "outputs": [],
   "source": [
    "def meanColor(I):\n",
    "    return np.array((np.mean(I[:,:,0]),np.mean(I[:,:,1]),np.mean(I[:,:,2])))"
   ]
  },
  {
   "cell_type": "code",
   "execution_count": null,
   "id": "44b85cec",
   "metadata": {
    "scrolled": true
   },
   "outputs": [],
   "source": [
    "meanColor(I1)"
   ]
  },
  {
   "cell_type": "markdown",
   "id": "54dc8bda",
   "metadata": {},
   "source": [
    "## Texture Feature"
   ]
  },
  {
   "cell_type": "code",
   "execution_count": null,
   "id": "d34c4ce7",
   "metadata": {},
   "outputs": [],
   "source": [
    "def variance(I):\n",
    "    nl,nc=I.shape\n",
    "    m=np.mean(I)\n",
    "    va=np.sum((I-m)**2)/(nl*nc)\n",
    "    return va\n",
    "\n",
    "def energie(I): \n",
    "    nl,nc=I.shape\n",
    "    en= np.sum(I**2)\n",
    "    return en\n",
    "\n",
    "def entropie(I):\n",
    "    ent=np.sum(I*np.log2(I+1e-10))\n",
    "    return -ent\n",
    "\n",
    "def contraste(I):\n",
    "    nl,nc=I.shape\n",
    "    co=0\n",
    "    for i in range(nl):\n",
    "        for j in range(nc):\n",
    "            co+=((i-j)**2*I[i,j])\n",
    "    return co\n",
    "\n",
    "def homogenite(I):\n",
    "    nl,nc=I.shape\n",
    "    mo=0\n",
    "    for i in range(nl):\n",
    "        for j in range(nc):\n",
    "            mo+=I[i,j]/(1+abs(i-j))\n",
    "    return mo"
   ]
  },
  {
   "cell_type": "code",
   "execution_count": null,
   "id": "54f1ef0b",
   "metadata": {},
   "outputs": [],
   "source": [
    "def texture(I):\n",
    "    I=I/255\n",
    "    return np.array((variance(I),energie(I),entropie(I),contraste(I),homogenite(I)))"
   ]
  },
  {
   "cell_type": "code",
   "execution_count": null,
   "id": "193ce0b1",
   "metadata": {},
   "outputs": [],
   "source": [
    "texture(I_gray)"
   ]
  },
  {
   "cell_type": "markdown",
   "id": "e25d7fbd",
   "metadata": {},
   "source": [
    "## DATA PREPARATION"
   ]
  },
  {
   "cell_type": "code",
   "execution_count": null,
   "id": "88b97c03",
   "metadata": {},
   "outputs": [],
   "source": [
    "dictionary={'Names' :[],'R':[],'G':[],'B':[],'Variance':[],'Energy':[],'Entropy':[],'Contrast':[],'Homogeneity':[]}\n",
    "names=['Bus','Dinosaur','Elephant','Flower','Horse','Mountain']"
   ]
  },
  {
   "cell_type": "code",
   "execution_count": null,
   "id": "97daf2a3",
   "metadata": {},
   "outputs": [],
   "source": [
    "def dict2dataframe(images):\n",
    "    \n",
    "    for i in images:\n",
    "        \n",
    "        image_name = int(os.path.basename(i).split('.')[0])\n",
    "        image=plt.imread(i)\n",
    "        color=meanColor(image)\n",
    "        textur=texture(rgb2gray(image))\n",
    "        \n",
    "        if image_name in range(1,11):\n",
    "            dictionary['Names'].append(names[0])\n",
    "        elif image_name in range(11,21):\n",
    "            dictionary['Names'].append(names[1])\n",
    "        elif image_name in range(21,31):\n",
    "            dictionary['Names'].append(names[2])\n",
    "        elif image_name in range(31,41):\n",
    "            dictionary['Names'].append(names[3])\n",
    "        elif image_name in range(41,51):\n",
    "            dictionary['Names'].append(names[4])\n",
    "        elif image_name in range(51,61):\n",
    "            dictionary['Names'].append(names[5])\n",
    "        \n",
    "        dictionary['R'].append(color[0])\n",
    "        dictionary['G'].append(color[1])\n",
    "        dictionary['B'].append(color[2])\n",
    "        dictionary['Variance'].append(textur[0])\n",
    "        dictionary['Energy'].append(textur[1])\n",
    "        dictionary['Entropy'].append(textur[2])\n",
    "        dictionary['Contrast'].append(textur[3])\n",
    "        dictionary['Homogeneity'].append(textur[4])\n",
    "        \n",
    "    return pd.DataFrame.from_dict(dictionary)"
   ]
  },
  {
   "cell_type": "code",
   "execution_count": null,
   "id": "88146b47",
   "metadata": {},
   "outputs": [],
   "source": [
    "#data=dict2dataframe(images)\n",
    "#data.to_csv('Image_Features.csv', index=False)"
   ]
  },
  {
   "cell_type": "code",
   "execution_count": null,
   "id": "a069d316",
   "metadata": {},
   "outputs": [],
   "source": [
    "df=pd.read_csv('Image_Features.csv')"
   ]
  },
  {
   "cell_type": "code",
   "execution_count": null,
   "id": "0d3a790d",
   "metadata": {},
   "outputs": [],
   "source": [
    "df.head()"
   ]
  },
  {
   "cell_type": "markdown",
   "id": "b75bc246",
   "metadata": {},
   "source": [
    "## K-Means Algorithm"
   ]
  },
  {
   "cell_type": "code",
   "execution_count": null,
   "id": "f14e1ad8",
   "metadata": {},
   "outputs": [],
   "source": [
    "class K_MEANS:\n",
    "    \n",
    "    def __init__(self,data,k,iteration=100):\n",
    "        self.data=data\n",
    "        self.k=k\n",
    "        self.iteration=iteration\n",
    "        \n",
    "    def random_centroids(self):\n",
    "        centroids = []\n",
    "        for i in range(self.k):\n",
    "            centroid = self.data.apply(lambda x: float(x.sample()))\n",
    "            centroids.append(centroid)\n",
    "        return pd.concat(centroids, axis=1)\n",
    "    \n",
    "    def get_labels(self):\n",
    "        centroids=self.random_centroids()\n",
    "        distances = centroids.apply(lambda x: np.sqrt(((self.data - x) ** 2).sum(axis=1)))\n",
    "        return distances.idxmin(axis=1)\n",
    "    \n",
    "    def new_centroids(self):\n",
    "        labels=self.get_labels()\n",
    "        centroids = self.data.groupby(labels).apply(lambda x: np.exp(np.log(x).mean())).T\n",
    "        return centroids \n",
    "    \n",
    "    def plot_clusters(self,data, labels, centroids, iteration):\n",
    "        pca = PCA(n_components=2)\n",
    "        data_2d = pca.fit_transform(data)\n",
    "        centroids_2d = pca.transform(centroids.T)\n",
    "        clear_output(wait=True)\n",
    "        plt.title(f'Iteration {iteration}')\n",
    "        plt.scatter(x=data_2d[:,0], y=data_2d[:,1], c=labels)\n",
    "        plt.scatter(x=centroids_2d[:,0], y=centroids_2d[:,1])\n",
    "        plt.show() \n",
    "        \n",
    "    def start(self):\n",
    "        centroids = self.random_centroids()\n",
    "        old_centroids = pd.DataFrame()\n",
    "        iteration = 1\n",
    "\n",
    "        while iteration < self.iteration and not centroids.equals(old_centroids):\n",
    "            old_centroids = centroids\n",
    "\n",
    "            labels = self.get_labels()\n",
    "            centroids = self.new_centroids()\n",
    "            self.plot_clusters(self.data, labels, centroids, iteration)\n",
    "            iteration += 1"
   ]
  },
  {
   "cell_type": "markdown",
   "id": "c05bcaa3",
   "metadata": {},
   "source": [
    "1. Mean Color"
   ]
  },
  {
   "cell_type": "code",
   "execution_count": null,
   "id": "e1295206",
   "metadata": {},
   "outputs": [],
   "source": [
    "data1=df[['R','G','B']].dropna()"
   ]
  },
  {
   "cell_type": "code",
   "execution_count": null,
   "id": "9816a458",
   "metadata": {},
   "outputs": [],
   "source": [
    "data1.head()"
   ]
  },
  {
   "cell_type": "code",
   "execution_count": null,
   "id": "7ca3ee17",
   "metadata": {},
   "outputs": [],
   "source": [
    "data1 = ((data1 - data1.min()) / (data1.max() - data1.min()))"
   ]
  },
  {
   "cell_type": "code",
   "execution_count": null,
   "id": "f34222d9",
   "metadata": {},
   "outputs": [],
   "source": [
    "data1.head()"
   ]
  },
  {
   "cell_type": "code",
   "execution_count": null,
   "id": "0dca2898",
   "metadata": {},
   "outputs": [],
   "source": [
    "color=K_MEANS(data1,6)\n",
    "color.start()"
   ]
  },
  {
   "cell_type": "markdown",
   "id": "2453953d",
   "metadata": {},
   "source": [
    "2. Texture"
   ]
  },
  {
   "cell_type": "code",
   "execution_count": null,
   "id": "005a6a54",
   "metadata": {},
   "outputs": [],
   "source": [
    "data2=df[['Variance','Energy','Entropy','Contrast','Homogeneity']].dropna()"
   ]
  },
  {
   "cell_type": "code",
   "execution_count": null,
   "id": "f6efcb05",
   "metadata": {},
   "outputs": [],
   "source": [
    "data2.head()"
   ]
  },
  {
   "cell_type": "code",
   "execution_count": null,
   "id": "b275a93c",
   "metadata": {},
   "outputs": [],
   "source": [
    "data2 = ((data2 - data2.min()) / (data2.max() - data2.min()))"
   ]
  },
  {
   "cell_type": "code",
   "execution_count": null,
   "id": "7922fbc2",
   "metadata": {},
   "outputs": [],
   "source": [
    "data2.head()"
   ]
  },
  {
   "cell_type": "code",
   "execution_count": null,
   "id": "d33fae91",
   "metadata": {},
   "outputs": [],
   "source": [
    "textur=K_MEANS(data2,6)\n",
    "textur.start()"
   ]
  },
  {
   "cell_type": "markdown",
   "id": "af1a0687",
   "metadata": {},
   "source": [
    "# Results"
   ]
  },
  {
   "cell_type": "code",
   "execution_count": null,
   "id": "d9afa866",
   "metadata": {},
   "outputs": [],
   "source": [
    "#add the class to each image\n",
    "df['Color_Clustring']=color.get_labels()\n",
    "df['Textur_Clustring']=textur.get_labels()"
   ]
  },
  {
   "cell_type": "code",
   "execution_count": null,
   "id": "d85ad926",
   "metadata": {},
   "outputs": [],
   "source": [
    "df"
   ]
  },
  {
   "cell_type": "code",
   "execution_count": null,
   "id": "2e2c7b9f",
   "metadata": {},
   "outputs": [],
   "source": []
  }
 ],
 "metadata": {
  "kernelspec": {
   "display_name": "Python 3 (ipykernel)",
   "language": "python",
   "name": "python3"
  },
  "language_info": {
   "codemirror_mode": {
    "name": "ipython",
    "version": 3
   },
   "file_extension": ".py",
   "mimetype": "text/x-python",
   "name": "python",
   "nbconvert_exporter": "python",
   "pygments_lexer": "ipython3",
   "version": "3.9.7"
  }
 },
 "nbformat": 4,
 "nbformat_minor": 5
}
