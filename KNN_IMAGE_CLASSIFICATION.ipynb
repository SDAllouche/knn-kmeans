{
 "cells": [
  {
   "cell_type": "markdown",
   "id": "bd338e4b",
   "metadata": {},
   "source": [
    "# KNN ALGORITHM"
   ]
  },
  {
   "cell_type": "markdown",
   "id": "a2322801",
   "metadata": {},
   "source": [
    "## Import Libraries"
   ]
  },
  {
   "cell_type": "code",
   "execution_count": null,
   "id": "64b1185d",
   "metadata": {},
   "outputs": [],
   "source": [
    "import numpy as np\n",
    "import matplotlib.pyplot as plt\n",
    "import glob\n",
    "import cv2\n",
    "import os"
   ]
  },
  {
   "cell_type": "markdown",
   "id": "ec7c22e2",
   "metadata": {},
   "source": [
    "## Dataset"
   ]
  },
  {
   "cell_type": "code",
   "execution_count": null,
   "id": "fa111e04",
   "metadata": {},
   "outputs": [],
   "source": [
    "#Import all images's paths\n",
    "images=glob.glob('image_database/*')\n",
    "test=glob.glob('test/*')"
   ]
  },
  {
   "cell_type": "code",
   "execution_count": null,
   "id": "4029a2d1",
   "metadata": {},
   "outputs": [],
   "source": [
    "I1=plt.imread('image_database/1.jpg')\n",
    "I2=plt.imread('image_database/11.jpg')\n",
    "I3=plt.imread('image_database/21.jpg')\n",
    "I4=plt.imread('image_database/31.jpg')\n",
    "I5=plt.imread('image_database/41.jpg')\n",
    "I6=plt.imread('image_database/51.jpg')\n",
    "plt.subplot(231)\n",
    "plt.title('Bus')\n",
    "plt.imshow(I1)\n",
    "plt.subplot(232)\n",
    "plt.title('Dinosaur')\n",
    "plt.imshow(I2)\n",
    "plt.subplot(233)\n",
    "plt.title('Elephant')\n",
    "plt.imshow(I3)\n",
    "plt.subplot(234)\n",
    "plt.title('Flower')\n",
    "plt.imshow(I4)\n",
    "plt.subplot(235)\n",
    "plt.title('Horse')\n",
    "plt.imshow(I5)\n",
    "plt.subplot(236)\n",
    "plt.title('Mountain')\n",
    "plt.imshow(I6)\n",
    "plt.show()"
   ]
  },
  {
   "cell_type": "markdown",
   "id": "cf01632d",
   "metadata": {},
   "source": [
    "## Important Functions"
   ]
  },
  {
   "cell_type": "code",
   "execution_count": null,
   "id": "faa36e9d",
   "metadata": {},
   "outputs": [],
   "source": [
    "def rgb2gray(I):\n",
    "    return np.dot(I,[0.2989, 0.5870, 0.1140])"
   ]
  },
  {
   "cell_type": "code",
   "execution_count": null,
   "id": "474bfae7",
   "metadata": {},
   "outputs": [],
   "source": [
    "I_gray=rgb2gray(I1)\n",
    "plt.imshow(I_gray,cmap=plt.get_cmap('gray'))\n",
    "plt.show()"
   ]
  },
  {
   "cell_type": "code",
   "execution_count": null,
   "id": "9297e00c",
   "metadata": {},
   "outputs": [],
   "source": [
    "def distance(x,y):\n",
    "    return np.sqrt(np.sum(np.power((x-y),2)))"
   ]
  },
  {
   "cell_type": "code",
   "execution_count": null,
   "id": "7ab879d7",
   "metadata": {},
   "outputs": [],
   "source": [
    "I_gray1=rgb2gray(I1)\n",
    "I_gray2=rgb2gray(I2)\n",
    "print(\"Euclidean distance between two images : \",distance(I_gray1,I_gray2))"
   ]
  },
  {
   "cell_type": "code",
   "execution_count": null,
   "id": "d1750e1d",
   "metadata": {},
   "outputs": [],
   "source": [
    "def distanceMan(x,y):\n",
    "    return np.sqrt(np.sum(np.abs(x-y)))"
   ]
  },
  {
   "cell_type": "code",
   "execution_count": null,
   "id": "c4ea5ed8",
   "metadata": {},
   "outputs": [],
   "source": [
    "print(\"Manhattan distance between two images : \",distanceMan(I_gray1,I_gray2))"
   ]
  },
  {
   "cell_type": "code",
   "execution_count": null,
   "id": "2427a3c8",
   "metadata": {},
   "outputs": [],
   "source": [
    "def redimension(im_ori,im): \n",
    "    a,b=im_ori.shape\n",
    "    img_resized = cv2.resize(im,(b,a))\n",
    "    return img_resized"
   ]
  },
  {
   "cell_type": "code",
   "execution_count": null,
   "id": "fef4b426",
   "metadata": {},
   "outputs": [],
   "source": [
    "def image_name(path):\n",
    "    name=int(os.path.basename(path).split('.')[0])\n",
    "    if name in range(1,11):\n",
    "        return 'Bus'  \n",
    "    elif name in range(11,21):\n",
    "        return 'Dinosaur'\n",
    "    elif name in range(21,31):\n",
    "        return'Elephant'\n",
    "    elif name in range(31,41):\n",
    "        return'Flower'\n",
    "    elif name in range(41,51):\n",
    "        return'Horse'\n",
    "    elif name in range(51,61):\n",
    "        return'Mountain'"
   ]
  },
  {
   "cell_type": "markdown",
   "id": "0fbb7d0e",
   "metadata": {},
   "source": [
    "## Color Feature"
   ]
  },
  {
   "cell_type": "code",
   "execution_count": null,
   "id": "b721a21d",
   "metadata": {},
   "outputs": [],
   "source": [
    "def histogram(I):\n",
    "    nl,nc=np.shape(I)\n",
    "    h=np.zeros(256)\n",
    "    I_m=np.round(I)\n",
    "    for i in range(0,nl):\n",
    "        for j in range(0,nc):\n",
    "            val=int(I_m[i][j])\n",
    "            h[val]+=1\n",
    "    return h"
   ]
  },
  {
   "cell_type": "code",
   "execution_count": null,
   "id": "67b82dfb",
   "metadata": {},
   "outputs": [],
   "source": [
    "hist=histogram(I_gray)\n",
    "pixel=np.arange(len(hist))\n",
    "plt.bar(pixel,hist,alpha=0.9)\n",
    "plt.xlabel('Pixel')\n",
    "plt.ylabel('Frequency')\n",
    "plt.show()"
   ]
  },
  {
   "cell_type": "markdown",
   "id": "54dc8bda",
   "metadata": {},
   "source": [
    "## Texture Feature"
   ]
  },
  {
   "cell_type": "code",
   "execution_count": null,
   "id": "2501b9ae",
   "metadata": {},
   "outputs": [],
   "source": [
    "def GLCM(I):\n",
    "    (l,c)=I.shape\n",
    "    I=np.array(I).astype(int)\n",
    "    m=np.max(I)\n",
    "    C=np.zeros((m+1,m+1));\n",
    "    for i in range(l):\n",
    "        for j in range(c-1):\n",
    "            C[I[i][j]][I[i][j+1]]+=1\n",
    "    return C/np.max(C)"
   ]
  },
  {
   "cell_type": "code",
   "execution_count": null,
   "id": "b7581b4c",
   "metadata": {},
   "outputs": [],
   "source": [
    "GLCM(I_gray)"
   ]
  },
  {
   "cell_type": "markdown",
   "id": "b75bc246",
   "metadata": {},
   "source": [
    "## Knn algorithm"
   ]
  },
  {
   "cell_type": "code",
   "execution_count": null,
   "id": "f14e1ad8",
   "metadata": {},
   "outputs": [],
   "source": [
    "def KNN(image,images,feature):\n",
    "    i=0 \n",
    "    D1=[];D2=[]\n",
    "    nbr_im=60;\n",
    "    while i<nbr_im:\n",
    "        \n",
    "        I2 = plt.imread(images[i])\n",
    "        \n",
    "        if feature==1:\n",
    "            img1=histogram(rgb2gray(image))\n",
    "            img2=histogram(rgb2gray(I2))\n",
    "        elif feature==2:\n",
    "            img1=GLCM(rgb2gray(image))\n",
    "            img2=redimension(img1,GLCM(rgb2gray(I2)))\n",
    "            \n",
    "        D1.append((distance(img1, img2),images[i]))\n",
    "        D2.append((distanceMan(img1, img2),images[i]))\n",
    "        i = i + 1 \n",
    "        \n",
    "    return sorted(D1),sorted(D2)"
   ]
  },
  {
   "cell_type": "code",
   "execution_count": null,
   "id": "79f5d832",
   "metadata": {},
   "outputs": [],
   "source": [
    "def plot_KNN(image,distance1,distance2,k=8):\n",
    "    print(\"Original image : \\n\")\n",
    "    name_tested=image_name(image)\n",
    "    plt.imshow(plt.imread(test[0]))\n",
    "    plt.title(name_tested)\n",
    "    plt.show()\n",
    "    print(\"\\nEuclidien Distance : \\n\")\n",
    "    j=0\n",
    "    for i in range (k):                                     \n",
    "        plt.subplot(2,4,i+1)\n",
    "        I=plt.imread(distance1[i][1])\n",
    "        plt.imshow(I)\n",
    "        name=image_name(distance1[i][1])\n",
    "        if name_tested==name:\n",
    "            plt.title(name)\n",
    "            j+=1\n",
    "        else:\n",
    "            plt.title(name)\n",
    "    plt.show()\n",
    "    print(\"\\n Manhattan Distance : \\n\")\n",
    "    l=0\n",
    "    for i in range (k):                                     \n",
    "        plt.subplot(2,4,i+1)\n",
    "        I=plt.imread(distance2[i][1])\n",
    "        plt.imshow(I)\n",
    "        name=image_name(distance2[i][1])\n",
    "        if name_tested==name:\n",
    "            plt.title(name)\n",
    "            l+=1\n",
    "        else:\n",
    "            plt.title(name)\n",
    "    plt.show()\n",
    "    \n",
    "    print(\"Euclidien Distance accuracy : \"+str((j/k)*100)+\"%\")\n",
    "    print(\"Manhattan Distance accuracy : \"+str((l/k)*100)+\"%\")"
   ]
  },
  {
   "cell_type": "markdown",
   "id": "a787b1e4",
   "metadata": {},
   "source": [
    "1. Histogram"
   ]
  },
  {
   "cell_type": "code",
   "execution_count": null,
   "id": "76927f27",
   "metadata": {},
   "outputs": [],
   "source": [
    "#read the tested image\n",
    "path=test[0]\n",
    "image=plt.imread(path)\n",
    "\n",
    "#1 is refering to histogram\n",
    "#return the the distances(euclidien and manhattan)\n",
    "d1,d2=KNN(image,images,1)\n",
    "\n",
    "#Plot the k nearest images\n",
    "plot_KNN(path,d1,d2)"
   ]
  },
  {
   "cell_type": "markdown",
   "id": "8c481465",
   "metadata": {},
   "source": [
    "2. GLCM"
   ]
  },
  {
   "cell_type": "code",
   "execution_count": null,
   "id": "3c1a8fe7",
   "metadata": {
    "scrolled": true
   },
   "outputs": [],
   "source": [
    "#read the tested image\n",
    "path=test[0]\n",
    "image=plt.imread(path)\n",
    "\n",
    "#2 is refering to GLCM\n",
    "#return the the distances(euclidien and manhattan)\n",
    "d1,d2=KNN(image,images,2)\n",
    "\n",
    "#Plot the k nearest images\n",
    "plot_KNN(path,d1,d2)"
   ]
  },
  {
   "cell_type": "code",
   "execution_count": null,
   "id": "f34222d9",
   "metadata": {},
   "outputs": [],
   "source": []
  }
 ],
 "metadata": {
  "kernelspec": {
   "display_name": "Python 3 (ipykernel)",
   "language": "python",
   "name": "python3"
  },
  "language_info": {
   "codemirror_mode": {
    "name": "ipython",
    "version": 3
   },
   "file_extension": ".py",
   "mimetype": "text/x-python",
   "name": "python",
   "nbconvert_exporter": "python",
   "pygments_lexer": "ipython3",
   "version": "3.9.7"
  }
 },
 "nbformat": 4,
 "nbformat_minor": 5
}
